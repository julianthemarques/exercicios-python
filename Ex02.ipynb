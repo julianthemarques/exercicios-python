{
 "cells": [
  {
   "cell_type": "code",
   "execution_count": 1,
   "id": "efeee8c7",
   "metadata": {
    "scrolled": true
   },
   "outputs": [
    {
     "data": {
      "text/html": [
       "<div>\n",
       "<style scoped>\n",
       "    .dataframe tbody tr th:only-of-type {\n",
       "        vertical-align: middle;\n",
       "    }\n",
       "\n",
       "    .dataframe tbody tr th {\n",
       "        vertical-align: top;\n",
       "    }\n",
       "\n",
       "    .dataframe thead th {\n",
       "        text-align: right;\n",
       "    }\n",
       "</style>\n",
       "<table border=\"1\" class=\"dataframe\">\n",
       "  <thead>\n",
       "    <tr style=\"text-align: right;\">\n",
       "      <th></th>\n",
       "      <th>Endereco</th>\n",
       "      <th>SimboloIO</th>\n",
       "      <th>Bit Errado</th>\n",
       "      <th>Simbolo</th>\n",
       "      <th>Unnamed: 4</th>\n",
       "    </tr>\n",
       "  </thead>\n",
       "  <tbody>\n",
       "    <tr>\n",
       "      <th>0</th>\n",
       "      <td>I:074/0</td>\n",
       "      <td>1</td>\n",
       "      <td>B11/35</td>\n",
       "      <td>tag</td>\n",
       "      <td>B11:2/3</td>\n",
       "    </tr>\n",
       "    <tr>\n",
       "      <th>1</th>\n",
       "      <td>I:074/5</td>\n",
       "      <td>2</td>\n",
       "      <td>B12/34</td>\n",
       "      <td>tag</td>\n",
       "      <td>NaN</td>\n",
       "    </tr>\n",
       "    <tr>\n",
       "      <th>2</th>\n",
       "      <td>I:074/2</td>\n",
       "      <td>3</td>\n",
       "      <td>B3/17</td>\n",
       "      <td>tag</td>\n",
       "      <td>NaN</td>\n",
       "    </tr>\n",
       "    <tr>\n",
       "      <th>3</th>\n",
       "      <td>I:075/5</td>\n",
       "      <td>4</td>\n",
       "      <td>B11/47</td>\n",
       "      <td>tag</td>\n",
       "      <td>NaN</td>\n",
       "    </tr>\n",
       "    <tr>\n",
       "      <th>4</th>\n",
       "      <td>I:075/2</td>\n",
       "      <td>5</td>\n",
       "      <td>B3/23</td>\n",
       "      <td>tag</td>\n",
       "      <td>NaN</td>\n",
       "    </tr>\n",
       "    <tr>\n",
       "      <th>5</th>\n",
       "      <td>I:074/16</td>\n",
       "      <td>6</td>\n",
       "      <td>B12/558</td>\n",
       "      <td>tag</td>\n",
       "      <td>NaN</td>\n",
       "    </tr>\n",
       "    <tr>\n",
       "      <th>6</th>\n",
       "      <td>I:074/13</td>\n",
       "      <td>7</td>\n",
       "      <td>B3/20</td>\n",
       "      <td>tag</td>\n",
       "      <td>NaN</td>\n",
       "    </tr>\n",
       "    <tr>\n",
       "      <th>7</th>\n",
       "      <td>I:070/0</td>\n",
       "      <td>8</td>\n",
       "      <td>B12/16</td>\n",
       "      <td>tag</td>\n",
       "      <td>NaN</td>\n",
       "    </tr>\n",
       "    <tr>\n",
       "      <th>8</th>\n",
       "      <td>I:070/12</td>\n",
       "      <td>9</td>\n",
       "      <td>B11/11</td>\n",
       "      <td>tag</td>\n",
       "      <td>NaN</td>\n",
       "    </tr>\n",
       "  </tbody>\n",
       "</table>\n",
       "</div>"
      ],
      "text/plain": [
       "   Endereco  SimboloIO Bit Errado Simbolo Unnamed: 4\n",
       "0   I:074/0          1     B11/35     tag    B11:2/3\n",
       "1   I:074/5          2     B12/34     tag        NaN\n",
       "2   I:074/2          3      B3/17     tag        NaN\n",
       "3   I:075/5          4     B11/47     tag        NaN\n",
       "4   I:075/2          5      B3/23     tag        NaN\n",
       "5  I:074/16          6    B12/558     tag        NaN\n",
       "6  I:074/13          7      B3/20     tag        NaN\n",
       "7   I:070/0          8     B12/16     tag        NaN\n",
       "8  I:070/12          9     B11/11     tag        NaN"
      ]
     },
     "metadata": {},
     "output_type": "display_data"
    }
   ],
   "source": [
    "import pandas as pd\n",
    "planilhaExcel = pd.read_excel(\"Excel_Referencia_Exercicio2.xlsx\", sheet_name = \"Sheet1\", header = 0)\n",
    "\n",
    "display(planilhaExcel)"
   ]
  },
  {
   "cell_type": "markdown",
   "id": "9bc9b605",
   "metadata": {},
   "source": [
    "Importando a biblioteca pandas e lendo o arquivo excel por inteiro"
   ]
  },
  {
   "cell_type": "code",
   "execution_count": 2,
   "id": "d63719d3",
   "metadata": {},
   "outputs": [
    {
     "data": {
      "text/plain": [
       "0     B11/35\n",
       "1     B12/34\n",
       "2      B3/17\n",
       "3     B11/47\n",
       "4      B3/23\n",
       "5    B12/558\n",
       "6      B3/20\n",
       "7     B12/16\n",
       "8     B11/11\n",
       "Name: Bit Errado, dtype: object"
      ]
     },
     "metadata": {},
     "output_type": "display_data"
    },
    {
     "name": "stdout",
     "output_type": "stream",
     "text": [
      "['B11/35', 'B12/34', 'B3/17', 'B11/47', 'B3/23', 'B12/558', 'B3/20', 'B12/16', 'B11/11']\n"
     ]
    }
   ],
   "source": [
    "bitErradoSerie = planilhaExcel['Bit Errado']\n",
    "display(bitErradoSerie)\n",
    "listaBitErrado = bitErradoSerie.tolist()\n",
    "print(listaBitErrado)\n"
   ]
  },
  {
   "cell_type": "markdown",
   "id": "7aff8fdb",
   "metadata": {},
   "source": [
    "Retirando a serie Bit Errado do Data Frame e transformando-a em lista"
   ]
  },
  {
   "cell_type": "code",
   "execution_count": 3,
   "id": "8823e533",
   "metadata": {},
   "outputs": [],
   "source": [
    "listaBitCerto = []\n",
    "\n",
    "def arrumaBit(lista):\n",
    "    for valor in lista:\n",
    "        #realizando função split\n",
    "        dividindoElemento = valor.split('/')\n",
    "        #transformando o valor da lista em inteiro\n",
    "        intDividindoElemento = int(dividindoElemento[1])\n",
    "        #operações para parte inteira e resto de divisão\n",
    "        parteInteira, restoDivisao = divmod(intDividindoElemento, 16)\n",
    "        #criando a lista com os bit certos\n",
    "        listaBitCerto.append(f'{dividindoElemento[0]}:{parteInteira}/{restoDivisao}')\n",
    "        \n",
    "\n",
    "arrumaBit(listaBitErrado)"
   ]
  },
  {
   "cell_type": "markdown",
   "id": "f6da6f04",
   "metadata": {},
   "source": [
    "Passando função arrumaBit para criação da coluna de bit certos"
   ]
  },
  {
   "cell_type": "code",
   "execution_count": 4,
   "id": "ff7ceae8",
   "metadata": {},
   "outputs": [
    {
     "name": "stderr",
     "output_type": "stream",
     "text": [
      "C:\\Users\\julia\\AppData\\Local\\Temp/ipykernel_10996/1718262073.py:4: FutureWarning: As the xlwt package is no longer maintained, the xlwt engine will be removed in a future version of pandas. This is the only engine in pandas that supports writing in the xls format. Install openpyxl and write to an xlsx file instead. You can set the option io.excel.xls.writer to 'xlwt' to silence this warning. While this option is deprecated and will also raise a warning, it can be globally set and the warning suppressed.\n",
      "  df.to_excel('BitCertoErrado.xls')\n"
     ]
    },
    {
     "ename": "ModuleNotFoundError",
     "evalue": "No module named 'xlwt'",
     "output_type": "error",
     "traceback": [
      "\u001b[1;31m---------------------------------------------------------------------------\u001b[0m",
      "\u001b[1;31mModuleNotFoundError\u001b[0m                       Traceback (most recent call last)",
      "\u001b[1;32m~\\AppData\\Local\\Temp/ipykernel_10996/1718262073.py\u001b[0m in \u001b[0;36m<module>\u001b[1;34m\u001b[0m\n\u001b[0;32m      2\u001b[0m \u001b[0mdf\u001b[0m\u001b[1;33m\u001b[0m\u001b[1;33m\u001b[0m\u001b[0m\n\u001b[0;32m      3\u001b[0m \u001b[1;33m\u001b[0m\u001b[0m\n\u001b[1;32m----> 4\u001b[1;33m \u001b[0mdf\u001b[0m\u001b[1;33m.\u001b[0m\u001b[0mto_excel\u001b[0m\u001b[1;33m(\u001b[0m\u001b[1;34m'BitCertoErrado.xls'\u001b[0m\u001b[1;33m)\u001b[0m\u001b[1;33m\u001b[0m\u001b[1;33m\u001b[0m\u001b[0m\n\u001b[0m",
      "\u001b[1;32m~\\AppData\\Local\\Packages\\PythonSoftwareFoundation.Python.3.9_qbz5n2kfra8p0\\LocalCache\\local-packages\\Python39\\site-packages\\pandas\\core\\generic.py\u001b[0m in \u001b[0;36mto_excel\u001b[1;34m(self, excel_writer, sheet_name, na_rep, float_format, columns, header, index, index_label, startrow, startcol, engine, merge_cells, encoding, inf_rep, verbose, freeze_panes, storage_options)\u001b[0m\n\u001b[0;32m   2282\u001b[0m             \u001b[0minf_rep\u001b[0m\u001b[1;33m=\u001b[0m\u001b[0minf_rep\u001b[0m\u001b[1;33m,\u001b[0m\u001b[1;33m\u001b[0m\u001b[1;33m\u001b[0m\u001b[0m\n\u001b[0;32m   2283\u001b[0m         )\n\u001b[1;32m-> 2284\u001b[1;33m         formatter.write(\n\u001b[0m\u001b[0;32m   2285\u001b[0m             \u001b[0mexcel_writer\u001b[0m\u001b[1;33m,\u001b[0m\u001b[1;33m\u001b[0m\u001b[1;33m\u001b[0m\u001b[0m\n\u001b[0;32m   2286\u001b[0m             \u001b[0msheet_name\u001b[0m\u001b[1;33m=\u001b[0m\u001b[0msheet_name\u001b[0m\u001b[1;33m,\u001b[0m\u001b[1;33m\u001b[0m\u001b[1;33m\u001b[0m\u001b[0m\n",
      "\u001b[1;32m~\\AppData\\Local\\Packages\\PythonSoftwareFoundation.Python.3.9_qbz5n2kfra8p0\\LocalCache\\local-packages\\Python39\\site-packages\\pandas\\io\\formats\\excel.py\u001b[0m in \u001b[0;36mwrite\u001b[1;34m(self, writer, sheet_name, startrow, startcol, freeze_panes, engine, storage_options)\u001b[0m\n\u001b[0;32m    832\u001b[0m             \u001b[1;31m# error: Cannot instantiate abstract class 'ExcelWriter' with abstract\u001b[0m\u001b[1;33m\u001b[0m\u001b[1;33m\u001b[0m\u001b[0m\n\u001b[0;32m    833\u001b[0m             \u001b[1;31m# attributes 'engine', 'save', 'supported_extensions' and 'write_cells'\u001b[0m\u001b[1;33m\u001b[0m\u001b[1;33m\u001b[0m\u001b[0m\n\u001b[1;32m--> 834\u001b[1;33m             writer = ExcelWriter(  # type: ignore[abstract]\n\u001b[0m\u001b[0;32m    835\u001b[0m                 \u001b[0mwriter\u001b[0m\u001b[1;33m,\u001b[0m \u001b[0mengine\u001b[0m\u001b[1;33m=\u001b[0m\u001b[0mengine\u001b[0m\u001b[1;33m,\u001b[0m \u001b[0mstorage_options\u001b[0m\u001b[1;33m=\u001b[0m\u001b[0mstorage_options\u001b[0m\u001b[1;33m\u001b[0m\u001b[1;33m\u001b[0m\u001b[0m\n\u001b[0;32m    836\u001b[0m             )\n",
      "\u001b[1;32m~\\AppData\\Local\\Packages\\PythonSoftwareFoundation.Python.3.9_qbz5n2kfra8p0\\LocalCache\\local-packages\\Python39\\site-packages\\pandas\\io\\excel\\_xlwt.py\u001b[0m in \u001b[0;36m__init__\u001b[1;34m(self, path, engine, date_format, datetime_format, encoding, mode, storage_options, if_sheet_exists, engine_kwargs, **kwargs)\u001b[0m\n\u001b[0;32m     37\u001b[0m     ):\n\u001b[0;32m     38\u001b[0m         \u001b[1;31m# Use the xlwt module as the Excel writer.\u001b[0m\u001b[1;33m\u001b[0m\u001b[1;33m\u001b[0m\u001b[0m\n\u001b[1;32m---> 39\u001b[1;33m         \u001b[1;32mimport\u001b[0m \u001b[0mxlwt\u001b[0m\u001b[1;33m\u001b[0m\u001b[1;33m\u001b[0m\u001b[0m\n\u001b[0m\u001b[0;32m     40\u001b[0m \u001b[1;33m\u001b[0m\u001b[0m\n\u001b[0;32m     41\u001b[0m         \u001b[0mengine_kwargs\u001b[0m \u001b[1;33m=\u001b[0m \u001b[0mcombine_kwargs\u001b[0m\u001b[1;33m(\u001b[0m\u001b[0mengine_kwargs\u001b[0m\u001b[1;33m,\u001b[0m \u001b[0mkwargs\u001b[0m\u001b[1;33m)\u001b[0m\u001b[1;33m\u001b[0m\u001b[1;33m\u001b[0m\u001b[0m\n",
      "\u001b[1;31mModuleNotFoundError\u001b[0m: No module named 'xlwt'"
     ]
    }
   ],
   "source": [
    "df = pd.DataFrame(zip(listaBitCerto, listaBitErrado), columns=['Bit Certo', 'Bit Errado'])\n",
    "df\n",
    "\n",
    "df.to_excel('BitCertoErrado.xlsx')"
   ]
  },
  {
   "cell_type": "markdown",
   "id": "f63e8814",
   "metadata": {},
   "source": [
    "criando novo data frame com ambas listas solicitadas e exportando-o para o excel"
   ]
  }
 ],
 "metadata": {
  "interpreter": {
   "hash": "0745df029ba5b39feeee598a56bb140e3a8d4a94f744e5c199f40c488b0a6f48"
  },
  "kernelspec": {
   "display_name": "Python 3",
   "language": "python",
   "name": "python3"
  },
  "language_info": {
   "codemirror_mode": {
    "name": "ipython",
    "version": 3
   },
   "file_extension": ".py",
   "mimetype": "text/x-python",
   "name": "python",
   "nbconvert_exporter": "python",
   "pygments_lexer": "ipython3",
   "version": "3.9.9"
  }
 },
 "nbformat": 4,
 "nbformat_minor": 5
}
